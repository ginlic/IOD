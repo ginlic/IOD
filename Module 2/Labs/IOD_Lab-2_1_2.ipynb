{
 "cells": [
  {
   "cell_type": "markdown",
   "metadata": {
    "id": "AAUCnGGAN81w"
   },
   "source": [
    "<div>\n",
    "<img src=https://www.institutedata.com/wp-content/uploads/2019/10/iod_h_tp_primary_c.svg width=\"300\">\n",
    "</div>"
   ]
  },
  {
   "cell_type": "markdown",
   "metadata": {
    "id": "RjxxRZ83N81y"
   },
   "source": [
    "# Lab 2.1.2\n",
    "# *Exploring Data*"
   ]
  },
  {
   "cell_type": "markdown",
   "metadata": {
    "id": "f5i73AfjN810"
   },
   "source": [
    "## Part 1: Continuous and Categorical Data"
   ]
  },
  {
   "cell_type": "markdown",
   "metadata": {
    "id": "vm1g3nFjN813"
   },
   "source": [
    "When we explore a dataset we usually produce textual and graphical output together, starting with a high-level overview of the data and gradually drilling down into the individual features and relationships between them."
   ]
  },
  {
   "cell_type": "markdown",
   "metadata": {
    "id": "bXolkmZTN814"
   },
   "source": [
    "Our most important libraries for this task are:"
   ]
  },
  {
   "cell_type": "code",
   "execution_count": 1,
   "metadata": {
    "colab": {
     "base_uri": "https://localhost:8080/"
    },
    "executionInfo": {
     "elapsed": 8,
     "status": "ok",
     "timestamp": 1668806047734,
     "user": {
      "displayName": "Jin Yang",
      "userId": "04843300463003240101"
     },
     "user_tz": -660
    },
    "id": "Y1ZshShAN816",
    "outputId": "d4de7f43-c80d-428d-b888-fde6fae8e9d8",
    "tags": []
   },
   "outputs": [
    {
     "ename": "ModuleNotFoundError",
     "evalue": "No module named 'matplotlib'",
     "output_type": "error",
     "traceback": [
      "\u001b[1;31m---------------------------------------------------------------------------\u001b[0m",
      "\u001b[1;31mModuleNotFoundError\u001b[0m                       Traceback (most recent call last)",
      "Cell \u001b[1;32mIn[1], line 3\u001b[0m\n\u001b[0;32m      1\u001b[0m \u001b[38;5;28;01mimport\u001b[39;00m \u001b[38;5;21;01mnumpy\u001b[39;00m \u001b[38;5;28;01mas\u001b[39;00m \u001b[38;5;21;01mnp\u001b[39;00m\n\u001b[0;32m      2\u001b[0m \u001b[38;5;28;01mimport\u001b[39;00m \u001b[38;5;21;01mpandas\u001b[39;00m \u001b[38;5;28;01mas\u001b[39;00m \u001b[38;5;21;01mpd\u001b[39;00m\n\u001b[1;32m----> 3\u001b[0m \u001b[38;5;28;01mimport\u001b[39;00m \u001b[38;5;21;01mmatplotlib\u001b[39;00m\u001b[38;5;21;01m.\u001b[39;00m\u001b[38;5;21;01mpyplot\u001b[39;00m \u001b[38;5;28;01mas\u001b[39;00m \u001b[38;5;21;01mplt\u001b[39;00m\n\u001b[0;32m      4\u001b[0m \u001b[38;5;28;01mimport\u001b[39;00m \u001b[38;5;21;01mmatplotlib\u001b[39;00m\u001b[38;5;21;01m.\u001b[39;00m\u001b[38;5;21;01mpylab\u001b[39;00m \u001b[38;5;28;01mas\u001b[39;00m \u001b[38;5;21;01mpylab\u001b[39;00m\n\u001b[0;32m      5\u001b[0m \u001b[38;5;28;01mimport\u001b[39;00m \u001b[38;5;21;01mseaborn\u001b[39;00m \u001b[38;5;28;01mas\u001b[39;00m \u001b[38;5;21;01msns\u001b[39;00m\n",
      "\u001b[1;31mModuleNotFoundError\u001b[0m: No module named 'matplotlib'"
     ]
    }
   ],
   "source": [
    "import numpy as np\n",
    "import pandas as pd\n",
    "import matplotlib.pyplot as plt\n",
    "import matplotlib.pylab as pylab\n",
    "import seaborn as sns\n",
    "\n",
    "# Cause plots to be displayed in the notebook:\n",
    "\n",
    "%matplotlib inline"
   ]
  },
  {
   "cell_type": "code",
   "execution_count": null,
   "metadata": {
    "id": "S4xwjz_2Vkuc",
    "tags": []
   },
   "outputs": [],
   "source": [
    "# Override default figure sizing:\n",
    "pylab.rcParams['figure.figsize'] = (10, 6)\n",
    "sns.set(color_codes = True)"
   ]
  },
  {
   "cell_type": "markdown",
   "metadata": {
    "id": "hLwrqPHXN82B"
   },
   "source": [
    "## Data Profiling\n",
    "\n",
    "We actually start profiling the data when we first load it and check for input errors, as in the last lab. Once we have a DataFrame we can work with, however, things start getting more interesting."
   ]
  },
  {
   "cell_type": "markdown",
   "metadata": {
    "id": "SeWXc7c-N82C"
   },
   "source": [
    "**Load the file \"bikeshare.csv\" into a DataFrame named `bikes`, and check that it was loaded properly:**"
   ]
  },
  {
   "cell_type": "code",
   "execution_count": null,
   "metadata": {
    "id": "mxDB-sxHN82D",
    "tags": []
   },
   "outputs": [],
   "source": [
    "bikes = pd.read_csv(\"../../../IOD/DATA/bikeshare.csv\")\n",
    "bikes"
   ]
  },
  {
   "cell_type": "markdown",
   "metadata": {
    "id": "Noi0QDuQN82H"
   },
   "source": [
    "We may want our program to capture particular features of the dataset into variables, but if we just want to get a feel for the data it is easier to use a higher-level Pandas method like `describe()`:\n",
    "\n",
    "**Use `describe` to get the description of datasets.**"
   ]
  },
  {
   "cell_type": "code",
   "execution_count": null,
   "metadata": {
    "id": "6z-Gth5HN82I",
    "tags": []
   },
   "outputs": [],
   "source": [
    "bikes.describe()"
   ]
  },
  {
   "cell_type": "markdown",
   "metadata": {
    "id": "hYx4OyNiN82N"
   },
   "source": [
    "### Continuous Data"
   ]
  },
  {
   "cell_type": "markdown",
   "metadata": {
    "id": "fQgv9YU6N82P"
   },
   "source": [
    "We may have to do a lot of work before we can produce presentable graphics, but we can start creating simple visualisations as soon as we have a DataFrame.\n",
    "\n",
    "We usually start charting variables one-by-one (although when several have the same range it may be preferable to overlay them, using a different colour or symbol for each)."
   ]
  },
  {
   "cell_type": "markdown",
   "metadata": {
    "id": "JOrr95mNN82U"
   },
   "source": [
    "**Use the `scatter` method of Pandas to create a scatter plot of `windspeed`, `temp`:**"
   ]
  },
  {
   "cell_type": "code",
   "execution_count": null,
   "metadata": {
    "id": "uZoY0XTgN82U",
    "tags": []
   },
   "outputs": [],
   "source": [
    "bikes.plot.scatter('windspeed', 'temp')\n",
    "plt.xlabel(\"Windspeed\")\n",
    "plt.ylabel(\"Temp\")\n",
    "plt.title(\"Windspeed vs Temp\")\n",
    "plt.show()"
   ]
  },
  {
   "cell_type": "markdown",
   "metadata": {
    "id": "pAftUjteN82W"
   },
   "source": [
    "**The `scatter` method has various parameters for controlling the appearance of the chart. Experiment with `s` , `linewidths`, and `alpha` below:**"
   ]
  },
  {
   "cell_type": "code",
   "execution_count": null,
   "metadata": {
    "id": "l7w1tRLxN82X",
    "tags": []
   },
   "outputs": [],
   "source": [
    "bikes.plot.scatter('windspeed', 'temp', s=5, linewidth=1, alpha=0.6)\n",
    "plt.xlabel(\"Windspeed\")\n",
    "plt.ylabel(\"Temp\")\n",
    "plt.title(\"Windspeed vs Temp\")\n",
    "plt.show()"
   ]
  },
  {
   "cell_type": "markdown",
   "metadata": {
    "id": "2YvEtRe6N82Z"
   },
   "source": [
    "The scatterplot shows us the raw data. Our next step is usually to see how it is distributed, which is what the histogram is for:\n",
    "\n",
    "> A histogram is used for continuous data, where the bins represent ranges of data, while a bar chart is a plot of categorical variables. <sup>[1](#histfootnote)</sup>\n",
    "\n",
    "- **Identify continuous variables**\n",
    "- **Create histogram for those variables**"
   ]
  },
  {
   "cell_type": "code",
   "execution_count": null,
   "metadata": {
    "id": "I7xkrKxEN82Z",
    "scrolled": true,
    "tags": []
   },
   "outputs": [],
   "source": [
    "bikes.hist(column='temp', bins=10, figsize=[20,8])\n",
    "plt.xlabel('temp')\n",
    "plt.ylabel('count')\n",
    "plt.title('temp histogram')\n",
    "plt.show()"
   ]
  },
  {
   "cell_type": "markdown",
   "metadata": {
    "id": "Q2Sd9MPrN82b"
   },
   "source": [
    "What do the horizontal and vertical axes represent?"
   ]
  },
  {
   "cell_type": "markdown",
   "metadata": {
    "id": "wQO19BD6N82c"
   },
   "source": [
    "#### ANSWER:\n",
    "    horiz = magnitude of `atemp`, apparently normalised to [0, 1], discretised into bins of width 0.1;\n",
    "    vertical = counts of samples in each bin."
   ]
  },
  {
   "cell_type": "markdown",
   "metadata": {
    "id": "dwIZmUIhN82c"
   },
   "source": [
    "*NOTE: Samples in a given bin are greater than the axis value of its left side and less than or equal to the axis value of its right side. (The left-most bin is an exception: it represents greater than or equal to.)*"
   ]
  },
  {
   "cell_type": "markdown",
   "metadata": {
    "id": "FllLePJIN82d"
   },
   "source": [
    "The box-and-whisker plot provides a compact view of the major percentiles of the distribution:\n",
    "\n",
    "**Make a box and whisker plot for the column ``atemp``.**  \n",
    "\n",
    "> The box extends from the lower to\n",
    "upper quartile values of the data, with a line at the median. The whiskers extend from the box to show the range of the data.  Flier points are those past the end of the whiskers."
   ]
  },
  {
   "cell_type": "code",
   "execution_count": null,
   "metadata": {
    "id": "Ns0i_m7-N82d",
    "tags": []
   },
   "outputs": [],
   "source": [
    "plt.boxplot(bikes['atemp'], labels=['atemp'])\n",
    "plt.title('Box and whiskers plot for atemp')\n",
    "plt.show()"
   ]
  },
  {
   "cell_type": "markdown",
   "metadata": {
    "id": "quOrQERhN82f"
   },
   "source": [
    "This kind of plot really shines when we want to show several distributions at once (as long as they have compatible ranges).\n",
    "\n",
    "**Plot `atemp` and `windspeed` together. Change labels accordingly.**"
   ]
  },
  {
   "cell_type": "code",
   "execution_count": null,
   "metadata": {
    "id": "GbXdkED6N82f",
    "tags": []
   },
   "outputs": [],
   "source": [
    "plt.boxplot((bikes['atemp'],bikes['windspeed']), labels=['atemp', 'windspeed'])\n",
    "plt.title('Box and whiskers plot for atemp')\n",
    "plt.show()"
   ]
  },
  {
   "cell_type": "markdown",
   "metadata": {
    "id": "a79ua1wHN82h"
   },
   "source": [
    "### Classified Data\n",
    "\n",
    "Samples may represent different classes according to one or more categorical variables. Sometimes our goal is to discover these classes, or to train a classification model from samples that have been manually classified."
   ]
  },
  {
   "cell_type": "markdown",
   "metadata": {
    "id": "AMKqnzwYN82h"
   },
   "source": [
    "Here, the famous \"Iris\" dataset gets loaded from the UCI repository:"
   ]
  },
  {
   "cell_type": "code",
   "execution_count": null,
   "metadata": {
    "id": "NYa-YgD3N82i",
    "tags": []
   },
   "outputs": [],
   "source": [
    "import urllib\n",
    "\n",
    "# get Iris dataset from UCI Machine Learning Repository:\n",
    "url = \"http://goo.gl/HppjFh\"\n",
    "raw_data = urllib.request.urlopen(url)\n",
    "\n",
    "# load the CSV file:\n",
    "iris_data = pd.read_csv(raw_data, delimiter = \",\",\n",
    "                        names = ('sepal_length', 'sepal_width', 'petal_length', 'petal_width', 'species'))"
   ]
  },
  {
   "cell_type": "markdown",
   "metadata": {
    "id": "g54OHp8tN82j"
   },
   "source": [
    "Note that the column names were overridden by the `names` argument of the Pandas `read.csv` method. This requires prior knowledge of the dataset, which we would normally get from a data dictionary (although sometimes we just have to figure it out for ourselves)."
   ]
  },
  {
   "cell_type": "markdown",
   "metadata": {
    "id": "WkrDQM5rN82k"
   },
   "source": [
    "**Print the first few rows of this DataFrame:**"
   ]
  },
  {
   "cell_type": "code",
   "execution_count": null,
   "metadata": {
    "id": "r_OQLa_nN82l",
    "tags": []
   },
   "outputs": [],
   "source": [
    "iris_data.head()"
   ]
  },
  {
   "cell_type": "markdown",
   "metadata": {
    "id": "qqcCuzmhN82n"
   },
   "source": [
    "In this dataset, `species` has several possible values (representing the classes of the samples).\n",
    "\n",
    "**Find out distinct number of `species` and number of sample for each `species` in this dataset.**"
   ]
  },
  {
   "cell_type": "code",
   "execution_count": null,
   "metadata": {
    "id": "yow5oelDN82o",
    "tags": []
   },
   "outputs": [],
   "source": [
    "iris_data.species.value_counts()"
   ]
  },
  {
   "cell_type": "markdown",
   "metadata": {
    "id": "RyB0OzQtN82q"
   },
   "source": [
    "We often need to capture the number of classes in code. We can do this with a variation on the above. Try this below:"
   ]
  },
  {
   "cell_type": "code",
   "execution_count": 2,
   "metadata": {
    "id": "h5WyByseN82r",
    "tags": []
   },
   "outputs": [
    {
     "ename": "NameError",
     "evalue": "name 'iris_data' is not defined",
     "output_type": "error",
     "traceback": [
      "\u001b[1;31m---------------------------------------------------------------------------\u001b[0m",
      "\u001b[1;31mNameError\u001b[0m                                 Traceback (most recent call last)",
      "Cell \u001b[1;32mIn[2], line 1\u001b[0m\n\u001b[1;32m----> 1\u001b[0m \u001b[38;5;28mlen\u001b[39m(iris_data[\u001b[38;5;124m'\u001b[39m\u001b[38;5;124mspecies\u001b[39m\u001b[38;5;124m'\u001b[39m]\u001b[38;5;241m.\u001b[39mvalue_counts())\n",
      "\u001b[1;31mNameError\u001b[0m: name 'iris_data' is not defined"
     ]
    }
   ],
   "source": [
    "len(iris_data['species'].value_counts())"
   ]
  },
  {
   "cell_type": "markdown",
   "metadata": {
    "id": "kO-KGbACN82s"
   },
   "source": [
    "We often need to calculate aggregate values within subgroups of the dataset. The Pandas DataFrame method for this is `groupby`.\n",
    "\n",
    "**Apply the `groupby` method to get `mean` of `sepal_length` and `sepal_width` for the above dataset.**"
   ]
  },
  {
   "cell_type": "code",
   "execution_count": 3,
   "metadata": {
    "id": "dqAwiRb-N82t",
    "tags": []
   },
   "outputs": [
    {
     "ename": "NameError",
     "evalue": "name 'iris_data' is not defined",
     "output_type": "error",
     "traceback": [
      "\u001b[1;31m---------------------------------------------------------------------------\u001b[0m",
      "\u001b[1;31mNameError\u001b[0m                                 Traceback (most recent call last)",
      "Cell \u001b[1;32mIn[3], line 1\u001b[0m\n\u001b[1;32m----> 1\u001b[0m iris_data\u001b[38;5;241m.\u001b[39mgroupby([\u001b[38;5;124m'\u001b[39m\u001b[38;5;124mspecies\u001b[39m\u001b[38;5;124m'\u001b[39m])[[\u001b[38;5;124m'\u001b[39m\u001b[38;5;124msepal_length\u001b[39m\u001b[38;5;124m'\u001b[39m,\u001b[38;5;124m'\u001b[39m\u001b[38;5;124msepal_width\u001b[39m\u001b[38;5;124m'\u001b[39m]]\u001b[38;5;241m.\u001b[39mmean()\n",
      "\u001b[1;31mNameError\u001b[0m: name 'iris_data' is not defined"
     ]
    }
   ],
   "source": [
    "iris_data.groupby(['species'])[['sepal_length','sepal_width']].mean()"
   ]
  },
  {
   "cell_type": "markdown",
   "metadata": {
    "id": "AbtlYwS4N82w"
   },
   "source": [
    "The Pandas `plot` method provides a quick way to produce a scatter plot.\n",
    "\n",
    "**Draw a Scatterplot showing sepal width and length using the Pandas `plot` method.**"
   ]
  },
  {
   "cell_type": "code",
   "execution_count": 4,
   "metadata": {
    "id": "udAp87JGN82w",
    "tags": []
   },
   "outputs": [
    {
     "ename": "NameError",
     "evalue": "name 'iris_data' is not defined",
     "output_type": "error",
     "traceback": [
      "\u001b[1;31m---------------------------------------------------------------------------\u001b[0m",
      "\u001b[1;31mNameError\u001b[0m                                 Traceback (most recent call last)",
      "Cell \u001b[1;32mIn[4], line 1\u001b[0m\n\u001b[1;32m----> 1\u001b[0m iris_data\u001b[38;5;241m.\u001b[39mplot(kind\u001b[38;5;241m=\u001b[39m\u001b[38;5;124m'\u001b[39m\u001b[38;5;124mscatter\u001b[39m\u001b[38;5;124m'\u001b[39m, x\u001b[38;5;241m=\u001b[39m\u001b[38;5;124m'\u001b[39m\u001b[38;5;124msepal_width\u001b[39m\u001b[38;5;124m'\u001b[39m, y\u001b[38;5;241m=\u001b[39m\u001b[38;5;124m'\u001b[39m\u001b[38;5;124msepal_length\u001b[39m\u001b[38;5;124m'\u001b[39m, title\u001b[38;5;241m=\u001b[39m\u001b[38;5;124m'\u001b[39m\u001b[38;5;124mScatterplot for Sepal width vs length\u001b[39m\u001b[38;5;124m'\u001b[39m, xlabel\u001b[38;5;241m=\u001b[39m\u001b[38;5;124m'\u001b[39m\u001b[38;5;124mSepal Width\u001b[39m\u001b[38;5;124m'\u001b[39m)\n\u001b[0;32m      2\u001b[0m plt\u001b[38;5;241m.\u001b[39mshow()\n",
      "\u001b[1;31mNameError\u001b[0m: name 'iris_data' is not defined"
     ]
    }
   ],
   "source": [
    "iris_data.plot(kind='scatter', x='sepal_width', y='sepal_length', title='Scatterplot for Sepal width vs length', xlabel='Sepal Width')\n",
    "plt.show()"
   ]
  },
  {
   "cell_type": "markdown",
   "metadata": {
    "id": "hnkVXr8hVkvg"
   },
   "source": [
    "**Draw a Barplot showing sepal width and length using the Pandas plot method.**"
   ]
  },
  {
   "cell_type": "code",
   "execution_count": 5,
   "metadata": {
    "id": "9uaIXHPzVkvh",
    "tags": []
   },
   "outputs": [
    {
     "ename": "NameError",
     "evalue": "name 'iris_data' is not defined",
     "output_type": "error",
     "traceback": [
      "\u001b[1;31m---------------------------------------------------------------------------\u001b[0m",
      "\u001b[1;31mNameError\u001b[0m                                 Traceback (most recent call last)",
      "Cell \u001b[1;32mIn[5], line 1\u001b[0m\n\u001b[1;32m----> 1\u001b[0m iris_data\u001b[38;5;241m.\u001b[39mgroupby(\u001b[38;5;124m'\u001b[39m\u001b[38;5;124mspecies\u001b[39m\u001b[38;5;124m'\u001b[39m)[[\u001b[38;5;124m'\u001b[39m\u001b[38;5;124msepal_width\u001b[39m\u001b[38;5;124m'\u001b[39m, \u001b[38;5;124m'\u001b[39m\u001b[38;5;124msepal_length\u001b[39m\u001b[38;5;124m'\u001b[39m]]\u001b[38;5;241m.\u001b[39mmean()\u001b[38;5;241m.\u001b[39mplot(kind\u001b[38;5;241m=\u001b[39m\u001b[38;5;124m'\u001b[39m\u001b[38;5;124mbar\u001b[39m\u001b[38;5;124m'\u001b[39m)\n\u001b[0;32m      2\u001b[0m plt\u001b[38;5;241m.\u001b[39mxlabel(\u001b[38;5;124m'\u001b[39m\u001b[38;5;124mSpecies\u001b[39m\u001b[38;5;124m'\u001b[39m)\n\u001b[0;32m      3\u001b[0m plt\u001b[38;5;241m.\u001b[39mylabel(\u001b[38;5;124m'\u001b[39m\u001b[38;5;124mMean Values\u001b[39m\u001b[38;5;124m'\u001b[39m)\n",
      "\u001b[1;31mNameError\u001b[0m: name 'iris_data' is not defined"
     ]
    }
   ],
   "source": [
    "iris_data.groupby('species')[['sepal_width', 'sepal_length']].mean().plot(kind='bar')\n",
    "plt.xlabel('Species')\n",
    "plt.ylabel('Mean Values')\n",
    "plt.title('Bar Plot of Mean Sepal Width and Sepal Length for Each Species')\n",
    "plt.legend([\"Sepal Width\", \"Sepal Length\"])\n",
    "plt.show()"
   ]
  },
  {
   "cell_type": "markdown",
   "metadata": {
    "id": "Il80iAntN820"
   },
   "source": [
    "Draw a Scatterplot showing sepal width and length using the Pandas plot method.\n",
    "\n",
    "**[BONUS] Set `title`, `xlabel`, `ylabel` to the plot**"
   ]
  },
  {
   "cell_type": "code",
   "execution_count": 6,
   "metadata": {
    "id": "ddF-FxrvN820"
   },
   "outputs": [],
   "source": [
    "#ANSWER"
   ]
  },
  {
   "cell_type": "markdown",
   "metadata": {
    "id": "WPabGs1QN822"
   },
   "source": [
    "In this dataset we have also `petal_width`, `petal_length`.\n",
    "\n",
    "**Try to draw Scatterplot using these variables.**"
   ]
  },
  {
   "cell_type": "code",
   "execution_count": 7,
   "metadata": {
    "id": "-rqQZSECN822",
    "tags": []
   },
   "outputs": [
    {
     "ename": "NameError",
     "evalue": "name 'iris_data' is not defined",
     "output_type": "error",
     "traceback": [
      "\u001b[1;31m---------------------------------------------------------------------------\u001b[0m",
      "\u001b[1;31mNameError\u001b[0m                                 Traceback (most recent call last)",
      "Cell \u001b[1;32mIn[7], line 1\u001b[0m\n\u001b[1;32m----> 1\u001b[0m iris_data\u001b[38;5;241m.\u001b[39mplot(kind\u001b[38;5;241m=\u001b[39m\u001b[38;5;124m'\u001b[39m\u001b[38;5;124mscatter\u001b[39m\u001b[38;5;124m'\u001b[39m, x\u001b[38;5;241m=\u001b[39m\u001b[38;5;124m'\u001b[39m\u001b[38;5;124mpetal_width\u001b[39m\u001b[38;5;124m'\u001b[39m, y\u001b[38;5;241m=\u001b[39m\u001b[38;5;124m'\u001b[39m\u001b[38;5;124mpetal_length\u001b[39m\u001b[38;5;124m'\u001b[39m, title\u001b[38;5;241m=\u001b[39m\u001b[38;5;124m'\u001b[39m\u001b[38;5;124mScatterplot for Petal width vs length\u001b[39m\u001b[38;5;124m'\u001b[39m, xlabel\u001b[38;5;241m=\u001b[39m\u001b[38;5;124m'\u001b[39m\u001b[38;5;124mPetal Width\u001b[39m\u001b[38;5;124m'\u001b[39m, ylabel\u001b[38;5;241m=\u001b[39m\u001b[38;5;124m'\u001b[39m\u001b[38;5;124mPetal Length\u001b[39m\u001b[38;5;124m'\u001b[39m)\n\u001b[0;32m      2\u001b[0m plt\u001b[38;5;241m.\u001b[39mshow()\n",
      "\u001b[1;31mNameError\u001b[0m: name 'iris_data' is not defined"
     ]
    }
   ],
   "source": [
    "iris_data.plot(kind='scatter', x='petal_width', y='petal_length', title='Scatterplot for Petal width vs length', xlabel='Petal Width', ylabel='Petal Length')\n",
    "plt.show()"
   ]
  },
  {
   "cell_type": "markdown",
   "metadata": {
    "id": "ahhvXPe-N824"
   },
   "source": [
    "In this case, we already have different species, so we can colour the points accordingly. This is easy to do using the Seaborn library. Try using `lmplot` of seaborn library and use the parameter `hue` and `fit_reg = False`.\n",
    "\n",
    "**Draw a Scatterplot showing sepal width and length.**"
   ]
  },
  {
   "cell_type": "code",
   "execution_count": 8,
   "metadata": {
    "id": "nO0c7l4IN824",
    "tags": []
   },
   "outputs": [
    {
     "ename": "NameError",
     "evalue": "name 'sns' is not defined",
     "output_type": "error",
     "traceback": [
      "\u001b[1;31m---------------------------------------------------------------------------\u001b[0m",
      "\u001b[1;31mNameError\u001b[0m                                 Traceback (most recent call last)",
      "Cell \u001b[1;32mIn[8], line 3\u001b[0m\n\u001b[0;32m      1\u001b[0m \u001b[38;5;66;03m# ANSWER\u001b[39;00m\n\u001b[0;32m      2\u001b[0m \u001b[38;5;66;03m# Draw a Scatterplot showing sepal width and length:\u001b[39;00m\n\u001b[1;32m----> 3\u001b[0m sns\u001b[38;5;241m.\u001b[39mlmplot(data \u001b[38;5;241m=\u001b[39m iris_data, x \u001b[38;5;241m=\u001b[39m \u001b[38;5;124m'\u001b[39m\u001b[38;5;124msepal_width\u001b[39m\u001b[38;5;124m'\u001b[39m, y \u001b[38;5;241m=\u001b[39m \u001b[38;5;124m'\u001b[39m\u001b[38;5;124msepal_length\u001b[39m\u001b[38;5;124m'\u001b[39m, hue \u001b[38;5;241m=\u001b[39m \u001b[38;5;124m'\u001b[39m\u001b[38;5;124mspecies\u001b[39m\u001b[38;5;124m'\u001b[39m, fit_reg \u001b[38;5;241m=\u001b[39m \u001b[38;5;28;01mFalse\u001b[39;00m)\n\u001b[0;32m      5\u001b[0m plt\u001b[38;5;241m.\u001b[39mshow()\n",
      "\u001b[1;31mNameError\u001b[0m: name 'sns' is not defined"
     ]
    }
   ],
   "source": [
    "# ANSWER\n",
    "# Draw a Scatterplot showing sepal width and length:\n",
    "sns.lmplot(data = iris_data, x = 'sepal_width', y = 'sepal_length', hue = 'species', fit_reg = False)\n",
    "\n",
    "plt.show()"
   ]
  },
  {
   "cell_type": "markdown",
   "metadata": {
    "id": "ojVPLL3HVkv5"
   },
   "source": [
    "**[BONUS] Draw a Scatterplot showing sepal width and length. Without using seaborn.**"
   ]
  },
  {
   "cell_type": "code",
   "execution_count": 9,
   "metadata": {
    "id": "nSpL2RSNVkv5",
    "tags": []
   },
   "outputs": [],
   "source": [
    "# ANSWER"
   ]
  },
  {
   "cell_type": "markdown",
   "metadata": {
    "id": "Lt13452uN825"
   },
   "source": [
    "To find out why this function is called `lmplot`, try it again with `fit_reg` = True:\n",
    "\n",
    "**Draw a Scatterplot showing sepal width and length:**"
   ]
  },
  {
   "cell_type": "code",
   "execution_count": 10,
   "metadata": {
    "id": "gzauY2s_N825",
    "tags": []
   },
   "outputs": [
    {
     "ename": "NameError",
     "evalue": "name 'sns' is not defined",
     "output_type": "error",
     "traceback": [
      "\u001b[1;31m---------------------------------------------------------------------------\u001b[0m",
      "\u001b[1;31mNameError\u001b[0m                                 Traceback (most recent call last)",
      "Cell \u001b[1;32mIn[10], line 3\u001b[0m\n\u001b[0;32m      1\u001b[0m \u001b[38;5;66;03m# ANSWER\u001b[39;00m\n\u001b[1;32m----> 3\u001b[0m sns\u001b[38;5;241m.\u001b[39mlmplot(data \u001b[38;5;241m=\u001b[39m iris_data, x \u001b[38;5;241m=\u001b[39m \u001b[38;5;124m'\u001b[39m\u001b[38;5;124msepal_width\u001b[39m\u001b[38;5;124m'\u001b[39m, y \u001b[38;5;241m=\u001b[39m \u001b[38;5;124m'\u001b[39m\u001b[38;5;124msepal_length\u001b[39m\u001b[38;5;124m'\u001b[39m, hue \u001b[38;5;241m=\u001b[39m \u001b[38;5;124m'\u001b[39m\u001b[38;5;124mspecies\u001b[39m\u001b[38;5;124m'\u001b[39m, fit_reg \u001b[38;5;241m=\u001b[39m \u001b[38;5;28;01mTrue\u001b[39;00m)\n\u001b[0;32m      5\u001b[0m plt\u001b[38;5;241m.\u001b[39mshow()\n",
      "\u001b[1;31mNameError\u001b[0m: name 'sns' is not defined"
     ]
    }
   ],
   "source": [
    "# ANSWER\n",
    "\n",
    "sns.lmplot(data = iris_data, x = 'sepal_width', y = 'sepal_length', hue = 'species', fit_reg = True)\n",
    "\n",
    "plt.show()"
   ]
  },
  {
   "cell_type": "markdown",
   "metadata": {
    "id": "vh0kS5nXN826"
   },
   "source": [
    "The Seaborn `jointplot` function charts a correlation along with both distributions:\n",
    "\n",
    "**Draw a jointplot showing sepal width and length:**"
   ]
  },
  {
   "cell_type": "code",
   "execution_count": 11,
   "metadata": {
    "id": "fpGNJl_tN826",
    "tags": []
   },
   "outputs": [
    {
     "ename": "NameError",
     "evalue": "name 'sns' is not defined",
     "output_type": "error",
     "traceback": [
      "\u001b[1;31m---------------------------------------------------------------------------\u001b[0m",
      "\u001b[1;31mNameError\u001b[0m                                 Traceback (most recent call last)",
      "Cell \u001b[1;32mIn[11], line 1\u001b[0m\n\u001b[1;32m----> 1\u001b[0m sns\u001b[38;5;241m.\u001b[39mjointplot(data\u001b[38;5;241m=\u001b[39miris_data, x\u001b[38;5;241m=\u001b[39m\u001b[38;5;124m\"\u001b[39m\u001b[38;5;124msepal_width\u001b[39m\u001b[38;5;124m\"\u001b[39m, y\u001b[38;5;241m=\u001b[39m\u001b[38;5;124m\"\u001b[39m\u001b[38;5;124msepal_length\u001b[39m\u001b[38;5;124m\"\u001b[39m)\n\u001b[0;32m      2\u001b[0m plt\u001b[38;5;241m.\u001b[39mshow()\n",
      "\u001b[1;31mNameError\u001b[0m: name 'sns' is not defined"
     ]
    }
   ],
   "source": [
    "sns.jointplot(data=iris_data, x=\"sepal_width\", y=\"sepal_length\")\n",
    "plt.show()"
   ]
  },
  {
   "cell_type": "markdown",
   "metadata": {
    "id": "C9DArDT8N828"
   },
   "source": [
    "When we want to see all the correlations at once, we can use `pairplot`:\n",
    "\n",
    "**Draw a `pairplot` of the dataset:**"
   ]
  },
  {
   "cell_type": "code",
   "execution_count": 12,
   "metadata": {
    "id": "ldqq3tigN829",
    "tags": []
   },
   "outputs": [
    {
     "ename": "NameError",
     "evalue": "name 'sns' is not defined",
     "output_type": "error",
     "traceback": [
      "\u001b[1;31m---------------------------------------------------------------------------\u001b[0m",
      "\u001b[1;31mNameError\u001b[0m                                 Traceback (most recent call last)",
      "Cell \u001b[1;32mIn[12], line 1\u001b[0m\n\u001b[1;32m----> 1\u001b[0m sns\u001b[38;5;241m.\u001b[39mpairplot(data\u001b[38;5;241m=\u001b[39miris_data)\n\u001b[0;32m      2\u001b[0m plt\u001b[38;5;241m.\u001b[39mshow()\n",
      "\u001b[1;31mNameError\u001b[0m: name 'sns' is not defined"
     ]
    }
   ],
   "source": [
    "sns.pairplot(data=iris_data)\n",
    "plt.show()"
   ]
  },
  {
   "cell_type": "markdown",
   "metadata": {
    "id": "Ci8lh0g7N82-"
   },
   "source": [
    "And, if the classes are known, we can apply colour using the `hue` parameter. Try this below:"
   ]
  },
  {
   "cell_type": "code",
   "execution_count": 13,
   "metadata": {
    "id": "OzuFvX9oN82-",
    "tags": []
   },
   "outputs": [
    {
     "ename": "NameError",
     "evalue": "name 'sns' is not defined",
     "output_type": "error",
     "traceback": [
      "\u001b[1;31m---------------------------------------------------------------------------\u001b[0m",
      "\u001b[1;31mNameError\u001b[0m                                 Traceback (most recent call last)",
      "Cell \u001b[1;32mIn[13], line 1\u001b[0m\n\u001b[1;32m----> 1\u001b[0m sns\u001b[38;5;241m.\u001b[39mpairplot(data\u001b[38;5;241m=\u001b[39miris_data, hue \u001b[38;5;241m=\u001b[39m \u001b[38;5;124m'\u001b[39m\u001b[38;5;124mspecies\u001b[39m\u001b[38;5;124m'\u001b[39m)\n\u001b[0;32m      2\u001b[0m plt\u001b[38;5;241m.\u001b[39mshow()\n",
      "\u001b[1;31mNameError\u001b[0m: name 'sns' is not defined"
     ]
    }
   ],
   "source": [
    "sns.pairplot(data=iris_data, hue = 'species')\n",
    "plt.show()"
   ]
  },
  {
   "cell_type": "markdown",
   "metadata": {
    "id": "50PIOUynN83A"
   },
   "source": [
    "Note that this gave us class-based distributions instead of an overall histogram, as well."
   ]
  },
  {
   "cell_type": "markdown",
   "metadata": {
    "id": "uoDpxc8UN83A"
   },
   "source": [
    "When we want to see numerical values of the correlations, the Pandas `corr` method provides a table of pair-wise correlations between the features in the DataFrame:"
   ]
  },
  {
   "cell_type": "code",
   "execution_count": 14,
   "metadata": {
    "id": "gBYxqp-tN83B",
    "tags": []
   },
   "outputs": [
    {
     "ename": "NameError",
     "evalue": "name 'iris_data' is not defined",
     "output_type": "error",
     "traceback": [
      "\u001b[1;31m---------------------------------------------------------------------------\u001b[0m",
      "\u001b[1;31mNameError\u001b[0m                                 Traceback (most recent call last)",
      "Cell \u001b[1;32mIn[14], line 5\u001b[0m\n\u001b[0;32m      1\u001b[0m \u001b[38;5;66;03m# ANSWER\u001b[39;00m\n\u001b[0;32m      2\u001b[0m \u001b[38;5;66;03m# iris_data.sepal_length = pd.to_numeric(iris_data.sepal_length, errors='coerce')\u001b[39;00m\n\u001b[0;32m      3\u001b[0m \u001b[38;5;66;03m# iris_data.sepal_width = pd.to_numeric(iris_data.sepal_width, errors='coerce')\u001b[39;00m\n\u001b[1;32m----> 5\u001b[0m iris_data_numeric \u001b[38;5;241m=\u001b[39m iris_data\u001b[38;5;241m.\u001b[39mselect_dtypes(include\u001b[38;5;241m=\u001b[39m\u001b[38;5;124m'\u001b[39m\u001b[38;5;124mnumber\u001b[39m\u001b[38;5;124m'\u001b[39m)\n\u001b[0;32m      6\u001b[0m iris_data_numeric\u001b[38;5;241m.\u001b[39mcorr()\n",
      "\u001b[1;31mNameError\u001b[0m: name 'iris_data' is not defined"
     ]
    }
   ],
   "source": [
    "# ANSWER\n",
    "# iris_data.sepal_length = pd.to_numeric(iris_data.sepal_length, errors='coerce')\n",
    "# iris_data.sepal_width = pd.to_numeric(iris_data.sepal_width, errors='coerce')\n",
    "\n",
    "iris_data_numeric = iris_data.select_dtypes(include='number')\n",
    "iris_data_numeric.corr()"
   ]
  },
  {
   "cell_type": "markdown",
   "metadata": {
    "id": "FfztaHjTN83C"
   },
   "source": [
    "### High-Level Data Profiling Libraries"
   ]
  },
  {
   "cell_type": "markdown",
   "metadata": {
    "id": "Rwds1QxPN83D"
   },
   "source": [
    "We need to master the basic data profiling functions because we will by using them frequently, for exploring data and answering ad hoc questions. In a production solution, we may need to incorporate specific data profiling code into our script so that we can automate data cleaning. However, when we just want to examine the data interactively before we start modelling, it is easier to use a high-level library like the following:\n",
    "\n",
    "> pip install sweetviz"
   ]
  },
  {
   "cell_type": "code",
   "execution_count": 15,
   "metadata": {
    "id": "8o-PZ2WdmsH0",
    "tags": []
   },
   "outputs": [
    {
     "name": "stdout",
     "output_type": "stream",
     "text": [
      "Collecting sweetviz\n",
      "  Downloading sweetviz-2.3.1-py3-none-any.whl.metadata (24 kB)\n",
      "Requirement already satisfied: pandas!=1.0.0,!=1.0.1,!=1.0.2,>=0.25.3 in c:\\users\\ginli\\anaconda3\\envs\\iod\\lib\\site-packages (from sweetviz) (2.1.1)\n",
      "Requirement already satisfied: numpy>=1.16.0 in c:\\users\\ginli\\anaconda3\\envs\\iod\\lib\\site-packages (from sweetviz) (1.26.0)\n",
      "Collecting matplotlib>=3.1.3 (from sweetviz)\n",
      "  Downloading matplotlib-3.8.2-cp311-cp311-win_amd64.whl.metadata (5.9 kB)\n",
      "Collecting tqdm>=4.43.0 (from sweetviz)\n",
      "  Downloading tqdm-4.66.1-py3-none-any.whl.metadata (57 kB)\n",
      "     ---------------------------------------- 0.0/57.6 kB ? eta -:--:--\n",
      "     ---------------------------------------- 57.6/57.6 kB 1.5 MB/s eta 0:00:00\n",
      "Collecting scipy>=1.3.2 (from sweetviz)\n",
      "  Downloading scipy-1.11.4-cp311-cp311-win_amd64.whl.metadata (60 kB)\n",
      "     ---------------------------------------- 0.0/60.4 kB ? eta -:--:--\n",
      "     ---------------------------------------- 60.4/60.4 kB 1.6 MB/s eta 0:00:00\n",
      "Requirement already satisfied: jinja2>=2.11.1 in c:\\users\\ginli\\anaconda3\\envs\\iod\\lib\\site-packages (from sweetviz) (3.1.2)\n",
      "Collecting importlib-resources>=1.2.0 (from sweetviz)\n",
      "  Downloading importlib_resources-6.1.1-py3-none-any.whl.metadata (4.1 kB)\n",
      "Requirement already satisfied: MarkupSafe>=2.0 in c:\\users\\ginli\\anaconda3\\envs\\iod\\lib\\site-packages (from jinja2>=2.11.1->sweetviz) (2.1.1)\n",
      "Collecting contourpy>=1.0.1 (from matplotlib>=3.1.3->sweetviz)\n",
      "  Downloading contourpy-1.2.0-cp311-cp311-win_amd64.whl.metadata (5.8 kB)\n",
      "Requirement already satisfied: cycler>=0.10 in c:\\users\\ginli\\anaconda3\\envs\\iod\\lib\\site-packages (from matplotlib>=3.1.3->sweetviz) (0.11.0)\n",
      "Collecting fonttools>=4.22.0 (from matplotlib>=3.1.3->sweetviz)\n",
      "  Downloading fonttools-4.46.0-cp311-cp311-win_amd64.whl.metadata (159 kB)\n",
      "     ---------------------------------------- 0.0/159.4 kB ? eta -:--:--\n",
      "     ---------------------------------- --- 143.4/159.4 kB 4.3 MB/s eta 0:00:01\n",
      "     -------------------------------------- 159.4/159.4 kB 1.9 MB/s eta 0:00:00\n",
      "Requirement already satisfied: kiwisolver>=1.3.1 in c:\\users\\ginli\\anaconda3\\envs\\iod\\lib\\site-packages (from matplotlib>=3.1.3->sweetviz) (1.4.4)\n",
      "Requirement already satisfied: packaging>=20.0 in c:\\users\\ginli\\anaconda3\\envs\\iod\\lib\\site-packages (from matplotlib>=3.1.3->sweetviz) (23.1)\n",
      "Collecting pillow>=8 (from matplotlib>=3.1.3->sweetviz)\n",
      "  Downloading Pillow-10.1.0-cp311-cp311-win_amd64.whl.metadata (9.6 kB)\n",
      "Requirement already satisfied: pyparsing>=2.3.1 in c:\\users\\ginli\\anaconda3\\envs\\iod\\lib\\site-packages (from matplotlib>=3.1.3->sweetviz) (3.0.9)\n",
      "Requirement already satisfied: python-dateutil>=2.7 in c:\\users\\ginli\\anaconda3\\envs\\iod\\lib\\site-packages (from matplotlib>=3.1.3->sweetviz) (2.8.2)\n",
      "Requirement already satisfied: pytz>=2020.1 in c:\\users\\ginli\\anaconda3\\envs\\iod\\lib\\site-packages (from pandas!=1.0.0,!=1.0.1,!=1.0.2,>=0.25.3->sweetviz) (2023.3.post1)\n",
      "Requirement already satisfied: tzdata>=2022.1 in c:\\users\\ginli\\anaconda3\\envs\\iod\\lib\\site-packages (from pandas!=1.0.0,!=1.0.1,!=1.0.2,>=0.25.3->sweetviz) (2023.3)\n",
      "Requirement already satisfied: colorama in c:\\users\\ginli\\anaconda3\\envs\\iod\\lib\\site-packages (from tqdm>=4.43.0->sweetviz) (0.4.6)\n",
      "Requirement already satisfied: six>=1.5 in c:\\users\\ginli\\anaconda3\\envs\\iod\\lib\\site-packages (from python-dateutil>=2.7->matplotlib>=3.1.3->sweetviz) (1.16.0)\n",
      "Downloading sweetviz-2.3.1-py3-none-any.whl (15.1 MB)\n",
      "   ---------------------------------------- 0.0/15.1 MB ? eta -:--:--\n",
      "    --------------------------------------- 0.3/15.1 MB 5.7 MB/s eta 0:00:03\n",
      "   -- ------------------------------------- 0.8/15.1 MB 8.0 MB/s eta 0:00:02\n",
      "   -- ------------------------------------- 1.0/15.1 MB 8.3 MB/s eta 0:00:02\n",
      "   -- ------------------------------------- 1.0/15.1 MB 8.3 MB/s eta 0:00:02\n",
      "   -- ------------------------------------- 1.0/15.1 MB 8.3 MB/s eta 0:00:02\n",
      "   --- ------------------------------------ 1.2/15.1 MB 3.9 MB/s eta 0:00:04\n",
      "   ----- ---------------------------------- 2.1/15.1 MB 5.7 MB/s eta 0:00:03\n",
      "   ------- -------------------------------- 2.8/15.1 MB 6.3 MB/s eta 0:00:02\n",
      "   --------- ------------------------------ 3.5/15.1 MB 6.9 MB/s eta 0:00:02\n",
      "   ------------ --------------------------- 4.7/15.1 MB 8.3 MB/s eta 0:00:02\n",
      "   ------------- -------------------------- 5.3/15.1 MB 8.6 MB/s eta 0:00:02\n",
      "   --------------- ------------------------ 6.0/15.1 MB 8.7 MB/s eta 0:00:02\n",
      "   ----------------- ---------------------- 6.6/15.1 MB 8.9 MB/s eta 0:00:01\n",
      "   -------------------- ------------------- 7.7/15.1 MB 9.7 MB/s eta 0:00:01\n",
      "   ----------------------- ---------------- 8.8/15.1 MB 10.2 MB/s eta 0:00:01\n",
      "   -------------------------- ------------- 9.9/15.1 MB 10.5 MB/s eta 0:00:01\n",
      "   ---------------------------- ----------- 10.7/15.1 MB 11.1 MB/s eta 0:00:01\n",
      "   ------------------------------ --------- 11.3/15.1 MB 13.4 MB/s eta 0:00:01\n",
      "   ------------------------------- -------- 12.1/15.1 MB 13.4 MB/s eta 0:00:01\n",
      "   ----------------------------------- ---- 13.4/15.1 MB 14.2 MB/s eta 0:00:01\n",
      "   ------------------------------------- -- 14.2/15.1 MB 14.2 MB/s eta 0:00:01\n",
      "   ---------------------------------------  15.1/15.1 MB 14.2 MB/s eta 0:00:01\n",
      "   ---------------------------------------  15.1/15.1 MB 14.2 MB/s eta 0:00:01\n",
      "   ---------------------------------------  15.1/15.1 MB 14.2 MB/s eta 0:00:01\n",
      "   ---------------------------------------- 15.1/15.1 MB 12.1 MB/s eta 0:00:00\n",
      "Downloading importlib_resources-6.1.1-py3-none-any.whl (33 kB)\n",
      "Downloading matplotlib-3.8.2-cp311-cp311-win_amd64.whl (7.6 MB)\n",
      "   ---------------------------------------- 0.0/7.6 MB ? eta -:--:--\n",
      "   ---- ----------------------------------- 0.9/7.6 MB 18.1 MB/s eta 0:00:01\n",
      "   ------- -------------------------------- 1.5/7.6 MB 15.5 MB/s eta 0:00:01\n",
      "   ---------- ----------------------------- 2.1/7.6 MB 14.7 MB/s eta 0:00:01\n",
      "   ---------- ----------------------------- 2.1/7.6 MB 14.7 MB/s eta 0:00:01\n",
      "   ----------- ---------------------------- 2.1/7.6 MB 8.5 MB/s eta 0:00:01\n",
      "   --------------- ------------------------ 3.0/7.6 MB 9.5 MB/s eta 0:00:01\n",
      "   ------------------ --------------------- 3.6/7.6 MB 9.5 MB/s eta 0:00:01\n",
      "   ---------------------- ----------------- 4.4/7.6 MB 9.6 MB/s eta 0:00:01\n",
      "   -------------------------- ------------- 5.1/7.6 MB 9.7 MB/s eta 0:00:01\n",
      "   ------------------------------- -------- 6.1/7.6 MB 10.3 MB/s eta 0:00:01\n",
      "   ------------------------------------- -- 7.1/7.6 MB 10.9 MB/s eta 0:00:01\n",
      "   ---------------------------------------  7.6/7.6 MB 11.1 MB/s eta 0:00:01\n",
      "   ---------------------------------------  7.6/7.6 MB 11.1 MB/s eta 0:00:01\n",
      "   ---------------------------------------- 7.6/7.6 MB 10.0 MB/s eta 0:00:00\n",
      "Downloading scipy-1.11.4-cp311-cp311-win_amd64.whl (44.1 MB)\n",
      "   ---------------------------------------- 0.0/44.1 MB ? eta -:--:--\n",
      "    --------------------------------------- 1.0/44.1 MB 20.3 MB/s eta 0:00:03\n",
      "   - -------------------------------------- 1.7/44.1 MB 15.8 MB/s eta 0:00:03\n",
      "   -- ------------------------------------- 2.6/44.1 MB 14.8 MB/s eta 0:00:03\n",
      "   --- ------------------------------------ 3.7/44.1 MB 15.6 MB/s eta 0:00:03\n",
      "   --- ------------------------------------ 4.1/44.1 MB 14.6 MB/s eta 0:00:03\n",
      "   ---- ----------------------------------- 4.9/44.1 MB 14.2 MB/s eta 0:00:03\n",
      "   ----- ---------------------------------- 5.7/44.1 MB 13.9 MB/s eta 0:00:03\n",
      "   ------ --------------------------------- 6.8/44.1 MB 14.5 MB/s eta 0:00:03\n",
      "   ------- -------------------------------- 7.9/44.1 MB 14.8 MB/s eta 0:00:03\n",
      "   ------- -------------------------------- 8.6/44.1 MB 14.4 MB/s eta 0:00:03\n",
      "   -------- ------------------------------- 9.2/44.1 MB 14.1 MB/s eta 0:00:03\n",
      "   --------- ------------------------------ 10.2/44.1 MB 14.1 MB/s eta 0:00:03\n",
      "   ---------- ----------------------------- 11.3/44.1 MB 13.9 MB/s eta 0:00:03\n",
      "   ---------- ----------------------------- 12.1/44.1 MB 13.6 MB/s eta 0:00:03\n",
      "   ----------- ---------------------------- 12.8/44.1 MB 13.6 MB/s eta 0:00:03\n",
      "   ------------ --------------------------- 13.5/44.1 MB 13.4 MB/s eta 0:00:03\n",
      "   ------------- -------------------------- 14.6/44.1 MB 13.9 MB/s eta 0:00:03\n",
      "   -------------- ------------------------- 15.8/44.1 MB 14.2 MB/s eta 0:00:02\n",
      "   --------------- ------------------------ 16.6/44.1 MB 13.9 MB/s eta 0:00:02\n",
      "   --------------- ------------------------ 17.5/44.1 MB 13.6 MB/s eta 0:00:02\n",
      "   ---------------- ----------------------- 18.4/44.1 MB 13.1 MB/s eta 0:00:02\n",
      "   ----------------- ---------------------- 19.2/44.1 MB 13.1 MB/s eta 0:00:02\n",
      "   ----------------- ---------------------- 19.6/44.1 MB 12.6 MB/s eta 0:00:02\n",
      "   ------------------ --------------------- 20.4/44.1 MB 12.4 MB/s eta 0:00:02\n",
      "   ------------------- -------------------- 21.4/44.1 MB 12.6 MB/s eta 0:00:02\n",
      "   ------------------- -------------------- 22.0/44.1 MB 12.4 MB/s eta 0:00:02\n",
      "   -------------------- ------------------- 22.8/44.1 MB 13.1 MB/s eta 0:00:02\n",
      "   --------------------- ------------------ 23.7/44.1 MB 12.6 MB/s eta 0:00:02\n",
      "   ---------------------- ----------------- 24.9/44.1 MB 13.1 MB/s eta 0:00:02\n",
      "   ---------------------- ----------------- 25.2/44.1 MB 12.4 MB/s eta 0:00:02\n",
      "   ----------------------- ---------------- 25.9/44.1 MB 11.7 MB/s eta 0:00:02\n",
      "   ------------------------ --------------- 26.6/44.1 MB 11.7 MB/s eta 0:00:02\n",
      "   ------------------------- -------------- 27.7/44.1 MB 11.9 MB/s eta 0:00:02\n",
      "   -------------------------- ------------- 28.8/44.1 MB 12.6 MB/s eta 0:00:02\n",
      "   -------------------------- ------------- 29.3/44.1 MB 12.4 MB/s eta 0:00:02\n",
      "   --------------------------- ------------ 30.1/44.1 MB 13.4 MB/s eta 0:00:02\n",
      "   ---------------------------- ----------- 31.4/44.1 MB 13.6 MB/s eta 0:00:01\n",
      "   ---------------------------- ----------- 31.7/44.1 MB 13.1 MB/s eta 0:00:01\n",
      "   ----------------------------- ---------- 32.9/44.1 MB 13.1 MB/s eta 0:00:01\n",
      "   ------------------------------ --------- 33.4/44.1 MB 13.4 MB/s eta 0:00:01\n",
      "   ------------------------------ --------- 33.4/44.1 MB 13.4 MB/s eta 0:00:01\n",
      "   ------------------------------ --------- 33.7/44.1 MB 11.9 MB/s eta 0:00:01\n",
      "   ------------------------------ --------- 34.0/44.1 MB 11.5 MB/s eta 0:00:01\n",
      "   ------------------------------- -------- 35.2/44.1 MB 11.7 MB/s eta 0:00:01\n",
      "   -------------------------------- ------- 35.7/44.1 MB 11.9 MB/s eta 0:00:01\n",
      "   -------------------------------- ------- 35.7/44.1 MB 11.5 MB/s eta 0:00:01\n",
      "   -------------------------------- ------- 35.7/44.1 MB 11.5 MB/s eta 0:00:01\n",
      "   -------------------------------- ------- 36.3/44.1 MB 10.4 MB/s eta 0:00:01\n",
      "   --------------------------------- ------ 37.1/44.1 MB 10.7 MB/s eta 0:00:01\n",
      "   --------------------------------- ------ 37.3/44.1 MB 10.1 MB/s eta 0:00:01\n",
      "   ---------------------------------- ----- 37.7/44.1 MB 9.9 MB/s eta 0:00:01\n",
      "   ---------------------------------- ----- 38.0/44.1 MB 9.6 MB/s eta 0:00:01\n",
      "   ---------------------------------- ----- 38.6/44.1 MB 9.1 MB/s eta 0:00:01\n",
      "   ----------------------------------- ---- 39.1/44.1 MB 9.1 MB/s eta 0:00:01\n",
      "   ----------------------------------- ---- 39.5/44.1 MB 8.7 MB/s eta 0:00:01\n",
      "   ------------------------------------ --- 39.7/44.1 MB 8.6 MB/s eta 0:00:01\n",
      "   ------------------------------------ --- 40.1/44.1 MB 8.5 MB/s eta 0:00:01\n",
      "   ------------------------------------ --- 40.6/44.1 MB 8.4 MB/s eta 0:00:01\n",
      "   ------------------------------------- -- 41.1/44.1 MB 8.1 MB/s eta 0:00:01\n",
      "   ------------------------------------- -- 41.4/44.1 MB 7.8 MB/s eta 0:00:01\n",
      "   ------------------------------------- -- 41.4/44.1 MB 7.8 MB/s eta 0:00:01\n",
      "   -------------------------------------- - 42.3/44.1 MB 7.8 MB/s eta 0:00:01\n",
      "   -------------------------------------- - 42.6/44.1 MB 7.7 MB/s eta 0:00:01\n",
      "   ---------------------------------------  43.0/44.1 MB 7.4 MB/s eta 0:00:01\n",
      "   ---------------------------------------  43.4/44.1 MB 7.3 MB/s eta 0:00:01\n",
      "   ---------------------------------------  44.0/44.1 MB 7.8 MB/s eta 0:00:01\n",
      "   ---------------------------------------  44.1/44.1 MB 7.8 MB/s eta 0:00:01\n",
      "   ---------------------------------------  44.1/44.1 MB 7.8 MB/s eta 0:00:01\n",
      "   ---------------------------------------  44.1/44.1 MB 7.8 MB/s eta 0:00:01\n",
      "   ---------------------------------------  44.1/44.1 MB 7.8 MB/s eta 0:00:01\n",
      "   ---------------------------------------  44.1/44.1 MB 7.8 MB/s eta 0:00:01\n",
      "   ---------------------------------------- 44.1/44.1 MB 6.3 MB/s eta 0:00:00\n",
      "Downloading tqdm-4.66.1-py3-none-any.whl (78 kB)\n",
      "   ---------------------------------------- 0.0/78.3 kB ? eta -:--:--\n",
      "   ---------------------------------------- 78.3/78.3 kB 2.2 MB/s eta 0:00:00\n",
      "Downloading contourpy-1.2.0-cp311-cp311-win_amd64.whl (187 kB)\n",
      "   ---------------------------------------- 0.0/187.6 kB ? eta -:--:--\n",
      "   --------------------------------------  184.3/187.6 kB 10.9 MB/s eta 0:00:01\n",
      "   ---------------------------------------- 187.6/187.6 kB 2.8 MB/s eta 0:00:00\n",
      "Downloading fonttools-4.46.0-cp311-cp311-win_amd64.whl (2.2 MB)\n",
      "   ---------------------------------------- 0.0/2.2 MB ? eta -:--:--\n",
      "   ---------- ----------------------------- 0.6/2.2 MB 35.8 MB/s eta 0:00:01\n",
      "   ------------------- -------------------- 1.0/2.2 MB 13.1 MB/s eta 0:00:01\n",
      "   ---------------------------- ----------- 1.5/2.2 MB 9.8 MB/s eta 0:00:01\n",
      "   ---------------------------------------  2.2/2.2 MB 10.6 MB/s eta 0:00:01\n",
      "   ---------------------------------------- 2.2/2.2 MB 8.7 MB/s eta 0:00:00\n",
      "Downloading Pillow-10.1.0-cp311-cp311-win_amd64.whl (2.6 MB)\n",
      "   ---------------------------------------- 0.0/2.6 MB ? eta -:--:--\n",
      "   - -------------------------------------- 0.1/2.6 MB ? eta -:--:--\n",
      "   ----------- ---------------------------- 0.8/2.6 MB 8.1 MB/s eta 0:00:01\n",
      "   ------------ --------------------------- 0.8/2.6 MB 5.0 MB/s eta 0:00:01\n",
      "   ---------------- ----------------------- 1.0/2.6 MB 4.7 MB/s eta 0:00:01\n",
      "   ---------------------- ----------------- 1.5/2.6 MB 5.9 MB/s eta 0:00:01\n",
      "   --------------------------------- ------ 2.2/2.6 MB 6.0 MB/s eta 0:00:01\n",
      "   ----------------------------------- ---- 2.3/2.6 MB 6.1 MB/s eta 0:00:01\n",
      "   ---------------------------------------  2.6/2.6 MB 5.5 MB/s eta 0:00:01\n",
      "   ---------------------------------------- 2.6/2.6 MB 5.0 MB/s eta 0:00:00\n",
      "Installing collected packages: tqdm, scipy, pillow, importlib-resources, fonttools, contourpy, matplotlib, sweetviz\n",
      "Successfully installed contourpy-1.2.0 fonttools-4.25.0 importlib-resources-6.1.1 matplotlib-3.8.0 pillow-10.0.1 scipy-1.11.4 sweetviz-2.3.1 tqdm-4.66.1\n",
      "Note: you may need to restart the kernel to use updated packages.\n"
     ]
    }
   ],
   "source": [
    "pip install sweetviz"
   ]
  },
  {
   "cell_type": "code",
   "execution_count": 16,
   "metadata": {
    "colab": {
     "base_uri": "https://localhost:8080/",
     "height": 598
    },
    "executionInfo": {
     "elapsed": 301,
     "status": "ok",
     "timestamp": 1668806976849,
     "user": {
      "displayName": "Jin Yang",
      "userId": "04843300463003240101"
     },
     "user_tz": -660
    },
    "id": "byalhXAiN83D",
    "outputId": "1da6bd11-1ffd-48f5-c742-77bf8686a2e5",
    "tags": []
   },
   "outputs": [
    {
     "name": "stderr",
     "output_type": "stream",
     "text": [
      "C:\\Users\\ginli\\anaconda3\\envs\\iod\\Lib\\site-packages\\tqdm\\auto.py:21: TqdmWarning: IProgress not found. Please update jupyter and ipywidgets. See https://ipywidgets.readthedocs.io/en/stable/user_install.html\n",
      "  from .autonotebook import tqdm as notebook_tqdm\n",
      "C:\\Users\\ginli\\AppData\\Local\\Temp\\ipykernel_5748\\1057974749.py:4: UserWarning: Could not infer format, so each element will be parsed individually, falling back to `dateutil`. To ensure parsing is consistent and as-expected, please specify a format.\n",
      "  df = pd.read_csv(\"../../../IOD/DATA/Meteorite_Landings.csv\", parse_dates = ['year'], encoding = 'UTF-8')\n"
     ]
    },
    {
     "data": {
      "text/html": [
       "<div>\n",
       "<style scoped>\n",
       "    .dataframe tbody tr th:only-of-type {\n",
       "        vertical-align: middle;\n",
       "    }\n",
       "\n",
       "    .dataframe tbody tr th {\n",
       "        vertical-align: top;\n",
       "    }\n",
       "\n",
       "    .dataframe thead th {\n",
       "        text-align: right;\n",
       "    }\n",
       "</style>\n",
       "<table border=\"1\" class=\"dataframe\">\n",
       "  <thead>\n",
       "    <tr style=\"text-align: right;\">\n",
       "      <th></th>\n",
       "      <th>name</th>\n",
       "      <th>id</th>\n",
       "      <th>nametype</th>\n",
       "      <th>recclass</th>\n",
       "      <th>mass (g)</th>\n",
       "      <th>fall</th>\n",
       "      <th>year</th>\n",
       "      <th>reclat</th>\n",
       "      <th>reclong</th>\n",
       "      <th>GeoLocation</th>\n",
       "    </tr>\n",
       "  </thead>\n",
       "  <tbody>\n",
       "    <tr>\n",
       "      <th>0</th>\n",
       "      <td>Aachen</td>\n",
       "      <td>1</td>\n",
       "      <td>Valid</td>\n",
       "      <td>L5</td>\n",
       "      <td>21.0</td>\n",
       "      <td>Fell</td>\n",
       "      <td>01/01/1880 12:00:00 AM</td>\n",
       "      <td>50.77500</td>\n",
       "      <td>6.08333</td>\n",
       "      <td>(50.775000, 6.083330)</td>\n",
       "    </tr>\n",
       "    <tr>\n",
       "      <th>1</th>\n",
       "      <td>Aarhus</td>\n",
       "      <td>2</td>\n",
       "      <td>Valid</td>\n",
       "      <td>H6</td>\n",
       "      <td>720.0</td>\n",
       "      <td>Fell</td>\n",
       "      <td>01/01/1951 12:00:00 AM</td>\n",
       "      <td>56.18333</td>\n",
       "      <td>10.23333</td>\n",
       "      <td>(56.183330, 10.233330)</td>\n",
       "    </tr>\n",
       "    <tr>\n",
       "      <th>2</th>\n",
       "      <td>Abee</td>\n",
       "      <td>6</td>\n",
       "      <td>Valid</td>\n",
       "      <td>EH4</td>\n",
       "      <td>107000.0</td>\n",
       "      <td>Fell</td>\n",
       "      <td>01/01/1952 12:00:00 AM</td>\n",
       "      <td>54.21667</td>\n",
       "      <td>-113.00000</td>\n",
       "      <td>(54.216670, -113.000000)</td>\n",
       "    </tr>\n",
       "    <tr>\n",
       "      <th>3</th>\n",
       "      <td>Acapulco</td>\n",
       "      <td>10</td>\n",
       "      <td>Valid</td>\n",
       "      <td>Acapulcoite</td>\n",
       "      <td>1914.0</td>\n",
       "      <td>Fell</td>\n",
       "      <td>01/01/1976 12:00:00 AM</td>\n",
       "      <td>16.88333</td>\n",
       "      <td>-99.90000</td>\n",
       "      <td>(16.883330, -99.900000)</td>\n",
       "    </tr>\n",
       "    <tr>\n",
       "      <th>4</th>\n",
       "      <td>Achiras</td>\n",
       "      <td>370</td>\n",
       "      <td>Valid</td>\n",
       "      <td>L6</td>\n",
       "      <td>780.0</td>\n",
       "      <td>Fell</td>\n",
       "      <td>01/01/1902 12:00:00 AM</td>\n",
       "      <td>-33.16667</td>\n",
       "      <td>-64.95000</td>\n",
       "      <td>(-33.166670, -64.950000)</td>\n",
       "    </tr>\n",
       "    <tr>\n",
       "      <th>5</th>\n",
       "      <td>Adhi Kot</td>\n",
       "      <td>379</td>\n",
       "      <td>Valid</td>\n",
       "      <td>EH4</td>\n",
       "      <td>4239.0</td>\n",
       "      <td>Fell</td>\n",
       "      <td>01/01/1919 12:00:00 AM</td>\n",
       "      <td>32.10000</td>\n",
       "      <td>71.80000</td>\n",
       "      <td>(32.100000, 71.800000)</td>\n",
       "    </tr>\n",
       "    <tr>\n",
       "      <th>6</th>\n",
       "      <td>Adzhi-Bogdo (stone)</td>\n",
       "      <td>390</td>\n",
       "      <td>Valid</td>\n",
       "      <td>LL3-6</td>\n",
       "      <td>910.0</td>\n",
       "      <td>Fell</td>\n",
       "      <td>01/01/1949 12:00:00 AM</td>\n",
       "      <td>44.83333</td>\n",
       "      <td>95.16667</td>\n",
       "      <td>(44.833330, 95.166670)</td>\n",
       "    </tr>\n",
       "    <tr>\n",
       "      <th>7</th>\n",
       "      <td>Agen</td>\n",
       "      <td>392</td>\n",
       "      <td>Valid</td>\n",
       "      <td>H5</td>\n",
       "      <td>30000.0</td>\n",
       "      <td>Fell</td>\n",
       "      <td>01/01/1814 12:00:00 AM</td>\n",
       "      <td>44.21667</td>\n",
       "      <td>0.61667</td>\n",
       "      <td>(44.216670, 0.616670)</td>\n",
       "    </tr>\n",
       "    <tr>\n",
       "      <th>8</th>\n",
       "      <td>Aguada</td>\n",
       "      <td>398</td>\n",
       "      <td>Valid</td>\n",
       "      <td>L6</td>\n",
       "      <td>1620.0</td>\n",
       "      <td>Fell</td>\n",
       "      <td>01/01/1930 12:00:00 AM</td>\n",
       "      <td>-31.60000</td>\n",
       "      <td>-65.23333</td>\n",
       "      <td>(-31.600000, -65.233330)</td>\n",
       "    </tr>\n",
       "    <tr>\n",
       "      <th>9</th>\n",
       "      <td>Aguila Blanca</td>\n",
       "      <td>417</td>\n",
       "      <td>Valid</td>\n",
       "      <td>L</td>\n",
       "      <td>1440.0</td>\n",
       "      <td>Fell</td>\n",
       "      <td>01/01/1920 12:00:00 AM</td>\n",
       "      <td>-30.86667</td>\n",
       "      <td>-64.55000</td>\n",
       "      <td>(-30.866670, -64.550000)</td>\n",
       "    </tr>\n",
       "  </tbody>\n",
       "</table>\n",
       "</div>"
      ],
      "text/plain": [
       "                  name   id nametype     recclass  mass (g)  fall  \\\n",
       "0               Aachen    1    Valid           L5      21.0  Fell   \n",
       "1               Aarhus    2    Valid           H6     720.0  Fell   \n",
       "2                 Abee    6    Valid          EH4  107000.0  Fell   \n",
       "3             Acapulco   10    Valid  Acapulcoite    1914.0  Fell   \n",
       "4              Achiras  370    Valid           L6     780.0  Fell   \n",
       "5             Adhi Kot  379    Valid          EH4    4239.0  Fell   \n",
       "6  Adzhi-Bogdo (stone)  390    Valid        LL3-6     910.0  Fell   \n",
       "7                 Agen  392    Valid           H5   30000.0  Fell   \n",
       "8               Aguada  398    Valid           L6    1620.0  Fell   \n",
       "9        Aguila Blanca  417    Valid            L    1440.0  Fell   \n",
       "\n",
       "                     year    reclat    reclong               GeoLocation  \n",
       "0  01/01/1880 12:00:00 AM  50.77500    6.08333     (50.775000, 6.083330)  \n",
       "1  01/01/1951 12:00:00 AM  56.18333   10.23333    (56.183330, 10.233330)  \n",
       "2  01/01/1952 12:00:00 AM  54.21667 -113.00000  (54.216670, -113.000000)  \n",
       "3  01/01/1976 12:00:00 AM  16.88333  -99.90000   (16.883330, -99.900000)  \n",
       "4  01/01/1902 12:00:00 AM -33.16667  -64.95000  (-33.166670, -64.950000)  \n",
       "5  01/01/1919 12:00:00 AM  32.10000   71.80000    (32.100000, 71.800000)  \n",
       "6  01/01/1949 12:00:00 AM  44.83333   95.16667    (44.833330, 95.166670)  \n",
       "7  01/01/1814 12:00:00 AM  44.21667    0.61667     (44.216670, 0.616670)  \n",
       "8  01/01/1930 12:00:00 AM -31.60000  -65.23333  (-31.600000, -65.233330)  \n",
       "9  01/01/1920 12:00:00 AM -30.86667  -64.55000  (-30.866670, -64.550000)  "
      ]
     },
     "execution_count": 16,
     "metadata": {},
     "output_type": "execute_result"
    }
   ],
   "source": [
    "# ANSWER\n",
    "import pandas as pd\n",
    "import sweetviz as sv\n",
    "df = pd.read_csv(\"../../../IOD/DATA/Meteorite_Landings.csv\", parse_dates = ['year'], encoding = 'UTF-8')\n",
    "df.head(10)"
   ]
  },
  {
   "cell_type": "markdown",
   "metadata": {
    "id": "8VGuOIerVkwQ"
   },
   "source": [
    "Use `analyze` and `show_html` of `sweetviz` to get an overview of the dataset."
   ]
  },
  {
   "cell_type": "code",
   "execution_count": 17,
   "metadata": {
    "id": "MBnnFN5HVkwR",
    "tags": []
   },
   "outputs": [
    {
     "name": "stderr",
     "output_type": "stream",
     "text": [
      "Done! Use 'show' commands to display/save.   |██████████| [100%]   00:03 -> (00:00 left)\n"
     ]
    },
    {
     "name": "stdout",
     "output_type": "stream",
     "text": [
      "Report SWEETVIZ_REPORT.html was generated! NOTEBOOK/COLAB USERS: the web browser MAY not pop up, regardless, the report IS saved in your notebook/colab files.\n"
     ]
    }
   ],
   "source": [
    "my_report = sv.analyze(df)\n",
    "my_report.show_html()\n"
   ]
  },
  {
   "cell_type": "markdown",
   "metadata": {
    "id": "SbB5JVvKN83F"
   },
   "source": [
    "## Part 2: Time Series and Geospatial Data"
   ]
  },
  {
   "cell_type": "markdown",
   "metadata": {
    "id": "V7qZWYezN83F"
   },
   "source": [
    "## Time Series\n",
    "\n",
    "A time series is basically a series or a data frame with a time-based index column. Working with time series introduces a lot of challenges and possibilities, but most tasks are catered for by the standard libraries in Python."
   ]
  },
  {
   "cell_type": "markdown",
   "metadata": {
    "id": "3_aTqRxQN83G"
   },
   "source": [
    "Here is a history of air passenger counts by month, loaded into an ordinary DataFrame:"
   ]
  },
  {
   "cell_type": "code",
   "execution_count": 33,
   "metadata": {
    "id": "mx13dmBNN83G",
    "tags": []
   },
   "outputs": [
    {
     "data": {
      "text/html": [
       "<div>\n",
       "<style scoped>\n",
       "    .dataframe tbody tr th:only-of-type {\n",
       "        vertical-align: middle;\n",
       "    }\n",
       "\n",
       "    .dataframe tbody tr th {\n",
       "        vertical-align: top;\n",
       "    }\n",
       "\n",
       "    .dataframe thead th {\n",
       "        text-align: right;\n",
       "    }\n",
       "</style>\n",
       "<table border=\"1\" class=\"dataframe\">\n",
       "  <thead>\n",
       "    <tr style=\"text-align: right;\">\n",
       "      <th></th>\n",
       "      <th>TravelDate</th>\n",
       "      <th>Passengers</th>\n",
       "    </tr>\n",
       "  </thead>\n",
       "  <tbody>\n",
       "    <tr>\n",
       "      <th>0</th>\n",
       "      <td>1/1/1949</td>\n",
       "      <td>112</td>\n",
       "    </tr>\n",
       "    <tr>\n",
       "      <th>1</th>\n",
       "      <td>2/1/1949</td>\n",
       "      <td>118</td>\n",
       "    </tr>\n",
       "    <tr>\n",
       "      <th>2</th>\n",
       "      <td>3/1/1949</td>\n",
       "      <td>132</td>\n",
       "    </tr>\n",
       "    <tr>\n",
       "      <th>3</th>\n",
       "      <td>4/1/1949</td>\n",
       "      <td>129</td>\n",
       "    </tr>\n",
       "    <tr>\n",
       "      <th>4</th>\n",
       "      <td>5/1/1949</td>\n",
       "      <td>121</td>\n",
       "    </tr>\n",
       "  </tbody>\n",
       "</table>\n",
       "</div>"
      ],
      "text/plain": [
       "  TravelDate  Passengers\n",
       "0   1/1/1949         112\n",
       "1   2/1/1949         118\n",
       "2   3/1/1949         132\n",
       "3   4/1/1949         129\n",
       "4   5/1/1949         121"
      ]
     },
     "execution_count": 33,
     "metadata": {},
     "output_type": "execute_result"
    }
   ],
   "source": [
    "airpass = pd.read_csv('../../../IOD/DATA/AirPassengers.csv')\n",
    "airpass.head()"
   ]
  },
  {
   "cell_type": "code",
   "execution_count": 34,
   "metadata": {
    "id": "luUUHoIgN83H",
    "tags": []
   },
   "outputs": [
    {
     "name": "stdout",
     "output_type": "stream",
     "text": [
      "<class 'pandas.core.frame.DataFrame'>\n",
      "RangeIndex: 144 entries, 0 to 143\n",
      "Data columns (total 2 columns):\n",
      " #   Column      Non-Null Count  Dtype \n",
      "---  ------      --------------  ----- \n",
      " 0   TravelDate  144 non-null    object\n",
      " 1   Passengers  144 non-null    int64 \n",
      "dtypes: int64(1), object(1)\n",
      "memory usage: 2.4+ KB\n"
     ]
    }
   ],
   "source": [
    "airpass.info()"
   ]
  },
  {
   "cell_type": "markdown",
   "metadata": {
    "id": "XcIm7hAdN83I"
   },
   "source": [
    "Before going any further, the `TravelDate` column needs to be converted to the `datetime` type."
   ]
  },
  {
   "cell_type": "code",
   "execution_count": 35,
   "metadata": {
    "id": "_ex_OLiaVkwd",
    "tags": []
   },
   "outputs": [
    {
     "name": "stdout",
     "output_type": "stream",
     "text": [
      "<class 'pandas.core.frame.DataFrame'>\n",
      "RangeIndex: 144 entries, 0 to 143\n",
      "Data columns (total 2 columns):\n",
      " #   Column      Non-Null Count  Dtype         \n",
      "---  ------      --------------  -----         \n",
      " 0   TravelDate  144 non-null    datetime64[ns]\n",
      " 1   Passengers  144 non-null    int64         \n",
      "dtypes: datetime64[ns](1), int64(1)\n",
      "memory usage: 2.4 KB\n"
     ]
    }
   ],
   "source": [
    "# ANSWER\n",
    "airpass.TravelDate = pd.to_datetime(airpass.TravelDate, format='%m/%d/%Y')\n",
    "airpass.info()"
   ]
  },
  {
   "cell_type": "markdown",
   "metadata": {
    "id": "qrTCKoQ4Vkwg"
   },
   "source": [
    "Set `TravelDate` as index"
   ]
  },
  {
   "cell_type": "code",
   "execution_count": 36,
   "metadata": {
    "id": "gvUCGd5iVkwh",
    "tags": []
   },
   "outputs": [],
   "source": [
    "# ANSWER\n",
    "airpass.set_index('TravelDate', inplace=True)"
   ]
  },
  {
   "cell_type": "markdown",
   "metadata": {
    "id": "mPIL1apbN83L"
   },
   "source": [
    "Now, Pandas knows that the first column of this DataFrame is a datetime index, so it only shows one column of data:\n",
    "\n",
    "Use `head` to check."
   ]
  },
  {
   "cell_type": "code",
   "execution_count": 37,
   "metadata": {
    "id": "KAT1vFCUN83L",
    "tags": []
   },
   "outputs": [
    {
     "data": {
      "text/html": [
       "<div>\n",
       "<style scoped>\n",
       "    .dataframe tbody tr th:only-of-type {\n",
       "        vertical-align: middle;\n",
       "    }\n",
       "\n",
       "    .dataframe tbody tr th {\n",
       "        vertical-align: top;\n",
       "    }\n",
       "\n",
       "    .dataframe thead th {\n",
       "        text-align: right;\n",
       "    }\n",
       "</style>\n",
       "<table border=\"1\" class=\"dataframe\">\n",
       "  <thead>\n",
       "    <tr style=\"text-align: right;\">\n",
       "      <th></th>\n",
       "      <th>Passengers</th>\n",
       "    </tr>\n",
       "    <tr>\n",
       "      <th>TravelDate</th>\n",
       "      <th></th>\n",
       "    </tr>\n",
       "  </thead>\n",
       "  <tbody>\n",
       "    <tr>\n",
       "      <th>1949-01-01</th>\n",
       "      <td>112</td>\n",
       "    </tr>\n",
       "    <tr>\n",
       "      <th>1949-02-01</th>\n",
       "      <td>118</td>\n",
       "    </tr>\n",
       "    <tr>\n",
       "      <th>1949-03-01</th>\n",
       "      <td>132</td>\n",
       "    </tr>\n",
       "    <tr>\n",
       "      <th>1949-04-01</th>\n",
       "      <td>129</td>\n",
       "    </tr>\n",
       "    <tr>\n",
       "      <th>1949-05-01</th>\n",
       "      <td>121</td>\n",
       "    </tr>\n",
       "  </tbody>\n",
       "</table>\n",
       "</div>"
      ],
      "text/plain": [
       "            Passengers\n",
       "TravelDate            \n",
       "1949-01-01         112\n",
       "1949-02-01         118\n",
       "1949-03-01         132\n",
       "1949-04-01         129\n",
       "1949-05-01         121"
      ]
     },
     "execution_count": 37,
     "metadata": {},
     "output_type": "execute_result"
    }
   ],
   "source": [
    "# ANSWER\n",
    "airpass.head()"
   ]
  },
  {
   "cell_type": "markdown",
   "metadata": {
    "id": "vTxTzLBmN83M"
   },
   "source": [
    "Here's how to see the values of the index:"
   ]
  },
  {
   "cell_type": "code",
   "execution_count": 38,
   "metadata": {
    "id": "xy6SrwyoVkwl",
    "tags": []
   },
   "outputs": [
    {
     "data": {
      "text/plain": [
       "DatetimeIndex(['1949-01-01', '1949-02-01', '1949-03-01', '1949-04-01',\n",
       "               '1949-05-01', '1949-06-01', '1949-07-01', '1949-08-01',\n",
       "               '1949-09-01', '1949-10-01',\n",
       "               ...\n",
       "               '1960-03-01', '1960-04-01', '1960-05-01', '1960-06-01',\n",
       "               '1960-07-01', '1960-08-01', '1960-09-01', '1960-10-01',\n",
       "               '1960-11-01', '1960-12-01'],\n",
       "              dtype='datetime64[ns]', name='TravelDate', length=144, freq=None)"
      ]
     },
     "execution_count": 38,
     "metadata": {},
     "output_type": "execute_result"
    }
   ],
   "source": [
    "airpass.index"
   ]
  },
  {
   "cell_type": "markdown",
   "metadata": {
    "id": "iT5tn5ciN83N"
   },
   "source": [
    "If we had multiple data columns but we only wanted to work with a time series of one of them, we could pull that column into a 1D time series:"
   ]
  },
  {
   "cell_type": "code",
   "execution_count": 39,
   "metadata": {
    "id": "LNtFR7leN83N",
    "tags": []
   },
   "outputs": [],
   "source": [
    "ts = airpass['Passengers']"
   ]
  },
  {
   "cell_type": "markdown",
   "metadata": {
    "id": "WRlNSzcRN83P"
   },
   "source": [
    "We use the datetime index exactly like a row number index:"
   ]
  },
  {
   "cell_type": "code",
   "execution_count": 40,
   "metadata": {
    "id": "unJk--JsN83P",
    "tags": []
   },
   "outputs": [
    {
     "name": "stdout",
     "output_type": "stream",
     "text": [
      "112\n"
     ]
    }
   ],
   "source": [
    "print(ts['1949-01-01'])"
   ]
  },
  {
   "cell_type": "markdown",
   "metadata": {
    "id": "Zvk2M_eMN83R"
   },
   "source": [
    "Or, we can refer to the row by its datetime equivalent:"
   ]
  },
  {
   "cell_type": "code",
   "execution_count": 41,
   "metadata": {
    "id": "GDb2bVvjN83R",
    "tags": []
   },
   "outputs": [
    {
     "name": "stdout",
     "output_type": "stream",
     "text": [
      "112\n"
     ]
    }
   ],
   "source": [
    "from datetime import datetime\n",
    "print(ts[datetime(1949,1,1)])"
   ]
  },
  {
   "cell_type": "markdown",
   "metadata": {
    "id": "vHgJzsjNN83S"
   },
   "source": [
    "Happily, Pandas makes it easy to slice data at a courser grain. We can refer to a whole year of data by omitting the month and day form the index:"
   ]
  },
  {
   "cell_type": "code",
   "execution_count": 42,
   "metadata": {
    "id": "r5lSHnl6N83T",
    "tags": []
   },
   "outputs": [
    {
     "name": "stdout",
     "output_type": "stream",
     "text": [
      "TravelDate\n",
      "1949-01-01    112\n",
      "1949-02-01    118\n",
      "1949-03-01    132\n",
      "1949-04-01    129\n",
      "1949-05-01    121\n",
      "1949-06-01    135\n",
      "1949-07-01    148\n",
      "1949-08-01    148\n",
      "1949-09-01    136\n",
      "1949-10-01    119\n",
      "1949-11-01    104\n",
      "1949-12-01    118\n",
      "Name: Passengers, dtype: int64\n"
     ]
    }
   ],
   "source": [
    "print(ts['1949'])"
   ]
  },
  {
   "cell_type": "markdown",
   "metadata": {
    "id": "8nJxb0VCN83U"
   },
   "source": [
    "The most basic way to plot a time series is to let Pandas apply the default:"
   ]
  },
  {
   "cell_type": "code",
   "execution_count": 43,
   "metadata": {
    "id": "-XlTUbQ4N83U",
    "tags": []
   },
   "outputs": [
    {
     "data": {
      "image/png": "[encoded data removed]",
      "text/plain": [
       "<Figure size 640x480 with 1 Axes>"
      ]
     },
     "metadata": {},
     "output_type": "display_data"
    }
   ],
   "source": [
    "ts.plot();"
   ]
  },
  {
   "cell_type": "markdown",
   "metadata": {
    "id": "UKQTTT6XN83V"
   },
   "source": [
    "## Geospatial Data\n",
    "\n",
    "Geospatial data is map-based (although what constitutes a \"map\" can go beyond the familiar). Ultimately, geographic data  occurs either in bitmap (raster) form or vector (resizeable polygons). It is not unusual for the two kinds of data to be used together.\n",
    "\n",
    "Because borders are often complex, following river courses, mountain ranges, and so on, the files that describe their geometries can be large. To reduce file sizes and image rendering times, we prefer to work with polygons that are no more detailed than the maximum resolution we need for our task. For this reason, geospatial files are often available at several different resolutions."
   ]
  },
  {
   "cell_type": "markdown",
   "metadata": {
    "id": "XYrkKzhXN83W"
   },
   "source": [
    "There are several popular options for working with maps in Python. We will use folium for its breadth and its use of open-source data."
   ]
  },
  {
   "cell_type": "code",
   "execution_count": 44,
   "metadata": {
    "id": "b5WBGddFN83W",
    "tags": []
   },
   "outputs": [],
   "source": [
    "import folium"
   ]
  },
  {
   "cell_type": "code",
   "execution_count": 45,
   "metadata": {
    "id": "UrYHSpI_Vkw9",
    "tags": []
   },
   "outputs": [],
   "source": [
    "# Read SF Incidents data\n",
    "crime_csv = '../../../IOD/DATA/SFPD_Incidents-Current_Year_2015.csv'\n",
    "crimedata = pd.read_csv(crime_csv)"
   ]
  },
  {
   "cell_type": "markdown",
   "metadata": {
    "id": "DySTio-bVkw_"
   },
   "source": [
    "Convert `Date` Column to DateTime and set as index"
   ]
  },
  {
   "cell_type": "code",
   "execution_count": 46,
   "metadata": {
    "id": "2-Cq0NPuVkw_",
    "tags": []
   },
   "outputs": [
    {
     "data": {
      "text/html": [
       "<div>\n",
       "<style scoped>\n",
       "    .dataframe tbody tr th:only-of-type {\n",
       "        vertical-align: middle;\n",
       "    }\n",
       "\n",
       "    .dataframe tbody tr th {\n",
       "        vertical-align: top;\n",
       "    }\n",
       "\n",
       "    .dataframe thead th {\n",
       "        text-align: right;\n",
       "    }\n",
       "</style>\n",
       "<table border=\"1\" class=\"dataframe\">\n",
       "  <thead>\n",
       "    <tr style=\"text-align: right;\">\n",
       "      <th></th>\n",
       "      <th>IncidntNum</th>\n",
       "      <th>Category</th>\n",
       "      <th>Descript</th>\n",
       "      <th>DayOfWeek</th>\n",
       "      <th>Time</th>\n",
       "      <th>PdDistrict</th>\n",
       "      <th>Resolution</th>\n",
       "      <th>Address</th>\n",
       "      <th>X</th>\n",
       "      <th>Y</th>\n",
       "      <th>Location</th>\n",
       "    </tr>\n",
       "    <tr>\n",
       "      <th>Date</th>\n",
       "      <th></th>\n",
       "      <th></th>\n",
       "      <th></th>\n",
       "      <th></th>\n",
       "      <th></th>\n",
       "      <th></th>\n",
       "      <th></th>\n",
       "      <th></th>\n",
       "      <th></th>\n",
       "      <th></th>\n",
       "      <th></th>\n",
       "    </tr>\n",
       "  </thead>\n",
       "  <tbody>\n",
       "    <tr>\n",
       "      <th>2015-09-20</th>\n",
       "      <td>150827188</td>\n",
       "      <td>NON-CRIMINAL</td>\n",
       "      <td>AIDED CASE, MENTAL DISTURBED</td>\n",
       "      <td>Sunday</td>\n",
       "      <td>23:54</td>\n",
       "      <td>RICHMOND</td>\n",
       "      <td>UNFOUNDED</td>\n",
       "      <td>3000 Block of CLEMENT ST</td>\n",
       "      <td>-122.491851</td>\n",
       "      <td>37.781756</td>\n",
       "      <td>(37.7817557255921, -122.491851328976)</td>\n",
       "    </tr>\n",
       "    <tr>\n",
       "      <th>2015-09-20</th>\n",
       "      <td>150827213</td>\n",
       "      <td>ASSAULT</td>\n",
       "      <td>INFLICT INJURY ON COHABITEE</td>\n",
       "      <td>Sunday</td>\n",
       "      <td>23:45</td>\n",
       "      <td>INGLESIDE</td>\n",
       "      <td>ARREST, BOOKED</td>\n",
       "      <td>100 Block of LOEHR ST</td>\n",
       "      <td>-122.413676</td>\n",
       "      <td>37.712617</td>\n",
       "      <td>(37.7126165766239, -122.413676487435)</td>\n",
       "    </tr>\n",
       "    <tr>\n",
       "      <th>2015-09-20</th>\n",
       "      <td>150827213</td>\n",
       "      <td>ASSAULT</td>\n",
       "      <td>ATTEMPTED HOMICIDE WITH A KNIFE</td>\n",
       "      <td>Sunday</td>\n",
       "      <td>23:45</td>\n",
       "      <td>INGLESIDE</td>\n",
       "      <td>ARREST, BOOKED</td>\n",
       "      <td>100 Block of LOEHR ST</td>\n",
       "      <td>-122.413676</td>\n",
       "      <td>37.712617</td>\n",
       "      <td>(37.7126165766239, -122.413676487435)</td>\n",
       "    </tr>\n",
       "    <tr>\n",
       "      <th>2015-09-20</th>\n",
       "      <td>150827213</td>\n",
       "      <td>ASSAULT</td>\n",
       "      <td>CHILD ABUSE (PHYSICAL)</td>\n",
       "      <td>Sunday</td>\n",
       "      <td>23:45</td>\n",
       "      <td>INGLESIDE</td>\n",
       "      <td>ARREST, BOOKED</td>\n",
       "      <td>100 Block of LOEHR ST</td>\n",
       "      <td>-122.413676</td>\n",
       "      <td>37.712617</td>\n",
       "      <td>(37.7126165766239, -122.413676487435)</td>\n",
       "    </tr>\n",
       "    <tr>\n",
       "      <th>2015-09-20</th>\n",
       "      <td>150827213</td>\n",
       "      <td>ASSAULT</td>\n",
       "      <td>MAYHEM WITH A KNIFE</td>\n",
       "      <td>Sunday</td>\n",
       "      <td>23:45</td>\n",
       "      <td>INGLESIDE</td>\n",
       "      <td>ARREST, BOOKED</td>\n",
       "      <td>100 Block of LOEHR ST</td>\n",
       "      <td>-122.413676</td>\n",
       "      <td>37.712617</td>\n",
       "      <td>(37.7126165766239, -122.413676487435)</td>\n",
       "    </tr>\n",
       "  </tbody>\n",
       "</table>\n",
       "</div>"
      ],
      "text/plain": [
       "            IncidntNum      Category                         Descript  \\\n",
       "Date                                                                    \n",
       "2015-09-20   150827188  NON-CRIMINAL     AIDED CASE, MENTAL DISTURBED   \n",
       "2015-09-20   150827213       ASSAULT      INFLICT INJURY ON COHABITEE   \n",
       "2015-09-20   150827213       ASSAULT  ATTEMPTED HOMICIDE WITH A KNIFE   \n",
       "2015-09-20   150827213       ASSAULT           CHILD ABUSE (PHYSICAL)   \n",
       "2015-09-20   150827213       ASSAULT              MAYHEM WITH A KNIFE   \n",
       "\n",
       "           DayOfWeek   Time PdDistrict      Resolution  \\\n",
       "Date                                                     \n",
       "2015-09-20    Sunday  23:54   RICHMOND       UNFOUNDED   \n",
       "2015-09-20    Sunday  23:45  INGLESIDE  ARREST, BOOKED   \n",
       "2015-09-20    Sunday  23:45  INGLESIDE  ARREST, BOOKED   \n",
       "2015-09-20    Sunday  23:45  INGLESIDE  ARREST, BOOKED   \n",
       "2015-09-20    Sunday  23:45  INGLESIDE  ARREST, BOOKED   \n",
       "\n",
       "                             Address           X          Y  \\\n",
       "Date                                                          \n",
       "2015-09-20  3000 Block of CLEMENT ST -122.491851  37.781756   \n",
       "2015-09-20     100 Block of LOEHR ST -122.413676  37.712617   \n",
       "2015-09-20     100 Block of LOEHR ST -122.413676  37.712617   \n",
       "2015-09-20     100 Block of LOEHR ST -122.413676  37.712617   \n",
       "2015-09-20     100 Block of LOEHR ST -122.413676  37.712617   \n",
       "\n",
       "                                         Location  \n",
       "Date                                               \n",
       "2015-09-20  (37.7817557255921, -122.491851328976)  \n",
       "2015-09-20  (37.7126165766239, -122.413676487435)  \n",
       "2015-09-20  (37.7126165766239, -122.413676487435)  \n",
       "2015-09-20  (37.7126165766239, -122.413676487435)  \n",
       "2015-09-20  (37.7126165766239, -122.413676487435)  "
      ]
     },
     "execution_count": 46,
     "metadata": {},
     "output_type": "execute_result"
    }
   ],
   "source": [
    "# ANSWER\n",
    "crimedata.Date = pd.to_datetime(crimedata.Date)\n",
    "crimedata.set_index(keys=['Date'], inplace=True)\n",
    "crimedata.head()\n"
   ]
  },
  {
   "cell_type": "markdown",
   "metadata": {
    "id": "ePYg9SyOVkxB"
   },
   "source": [
    "Draw a timeseries plot to visualize number of crimes for each day."
   ]
  },
  {
   "cell_type": "code",
   "execution_count": 51,
   "metadata": {
    "id": "zxaimc4vVkxB",
    "tags": []
   },
   "outputs": [
    {
     "data": {
      "text/plain": [
       "<Axes: xlabel='Date'>"
      ]
     },
     "execution_count": 51,
     "metadata": {},
     "output_type": "execute_result"
    },
    {
     "data": {
      "image/png": "[encoded data removed]",
      "text/plain": [
       "<Figure size 640x480 with 1 Axes>"
      ]
     },
     "metadata": {},
     "output_type": "display_data"
    }
   ],
   "source": [
    "# ANSWER\n",
    "crimedata.groupby(crimedata.index).size().plot()"
   ]
  },
  {
   "cell_type": "markdown",
   "metadata": {
    "id": "ZUdihgH5VkxC"
   },
   "source": [
    "Using folium we can easily create a map. As it's SF data, by default we are using SF location."
   ]
  },
  {
   "cell_type": "markdown",
   "metadata": {
    "id": "yoCDQtgVVkxJ"
   },
   "source": [
    "Add a marker in the map using `Folium.Marker` for first 100 rows of the dataset."
   ]
  },
  {
   "cell_type": "code",
   "execution_count": null,
   "metadata": {
    "id": "10J4Ob78VkxK"
   },
   "outputs": [],
   "source": [
    "# ANSWER\n"
   ]
  },
  {
   "cell_type": "markdown",
   "metadata": {
    "id": "4zpVDMb8VkxM"
   },
   "source": [
    "Add a cricle in the map using `Folium Circle` for first 100 rows of the dataset."
   ]
  },
  {
   "cell_type": "code",
   "execution_count": null,
   "metadata": {
    "id": "80zcdJJWVkxN"
   },
   "outputs": [],
   "source": [
    "# ANSWER"
   ]
  },
  {
   "cell_type": "markdown",
   "metadata": {
    "id": "--3r488OVkxP"
   },
   "source": [
    "[BONUS] Create a heatmap of the incident happened in SF."
   ]
  },
  {
   "cell_type": "markdown",
   "metadata": {
    "id": "Zc0Cpb2dVkxQ"
   },
   "source": [
    "**HOMEWORK** Explore Folium as much as you can.\n",
    "\n",
    "**HOMEWORK** Explore GeoPandas"
   ]
  },
  {
   "cell_type": "markdown",
   "metadata": {
    "id": "MIVTghMcN83c"
   },
   "source": [
    "# More Resources\n",
    "\n",
    "<a name=\"histfootnote\">1</a>: [Histogram](https://en.wikipedia.org/wiki/Histogram)\n",
    "\n",
    "The matplotlib users' guide is at http://pageperso.lif.univ-mrs.fr/~francois.denis/IAAM1/Matplotlib.pdf."
   ]
  },
  {
   "cell_type": "markdown",
   "metadata": {
    "id": "nVVwCRLHN83c"
   },
   "source": [
    "For visualisation ideas and code see https://python-graph-gallery.com/:"
   ]
  },
  {
   "cell_type": "markdown",
   "metadata": {
    "id": "EabCm0Lwxidh"
   },
   "source": [
    "2: GeoPandas\n",
    "\n",
    "> The goal of GeoPandas is to make working with geospatial data in python easier. It combines the capabilities of pandas and shapely, providing geospatial operations in pandas and a high-level interface to multiple geometries to shapely. GeoPandas enables you to easily do operations in python that would otherwise require a spatial database such as PostGIS.\n",
    "\n",
    "[GeoPandas 0.13.2](http://geopandas.org/index.html#)"
   ]
  },
  {
   "cell_type": "markdown",
   "metadata": {
    "id": "MlasiTKgDGdA"
   },
   "source": [
    "\n",
    "\n",
    "---\n",
    "\n",
    "\n",
    "\n",
    "---\n",
    "\n",
    "\n",
    "\n",
    "> > > > > > > > > © 2023 Institute of Data\n",
    "\n",
    "\n",
    "---\n",
    "\n",
    "\n",
    "\n",
    "---\n",
    "\n",
    "\n",
    "\n"
   ]
  }
 ],
 "metadata": {
  "colab": {
   "provenance": []
  },
  "kernelspec": {
   "display_name": "Python 3 (ipykernel)",
   "language": "python",
   "name": "python3"
  },
  "language_info": {
   "codemirror_mode": {
    "name": "ipython",
    "version": 3
   },
   "file_extension": ".py",
   "mimetype": "text/x-python",
   "name": "python",
   "nbconvert_exporter": "python",
   "pygments_lexer": "ipython3",
   "version": "3.11.5"
  },
  "varInspector": {
   "cols": {
    "lenName": 16,
    "lenType": 16,
    "lenVar": 40
   },
   "kernels_config": {
    "python": {
     "delete_cmd_postfix": "",
     "delete_cmd_prefix": "del ",
     "library": "var_list.py",
     "varRefreshCmd": "print(var_dic_list())"
    },
    "r": {
     "delete_cmd_postfix": ") ",
     "delete_cmd_prefix": "rm(",
     "library": "var_list.r",
     "varRefreshCmd": "cat(var_dic_list()) "
    }
   },
   "types_to_exclude": [
    "module",
    "function",
    "builtin_function_or_method",
    "instance",
    "_Feature"
   ],
   "window_display": false
  }
 },
 "nbformat": 4,
 "nbformat_minor": 4
}
